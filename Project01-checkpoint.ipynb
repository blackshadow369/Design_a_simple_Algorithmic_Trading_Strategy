{
 "cells": [
  {
   "cell_type": "code",
   "execution_count": 1,
   "id": "ae3ffa98",
   "metadata": {
    "scrolled": false
   },
   "outputs": [
    {
     "name": "stdout",
     "output_type": "stream",
     "text": [
      "Note: you may need to restart the kernel to use updated packages.\n"
     ]
    },
    {
     "name": "stderr",
     "output_type": "stream",
     "text": [
      "ERROR: Could not find a version that satisfies the requirement alpha_vintage (from versions: none)\n",
      "ERROR: No matching distribution found for alpha_vintage\n"
     ]
    }
   ],
   "source": [
    "pip install alpha_vintage"
   ]
  },
  {
   "cell_type": "code",
   "execution_count": 2,
   "id": "92a5d249",
   "metadata": {},
   "outputs": [
    {
     "name": "stdout",
     "output_type": "stream",
     "text": [
      "Requirement already satisfied: alpha_vantage in c:\\users\\acer\\anaconda3\\lib\\site-packages (2.3.1)\n",
      "Requirement already satisfied: aiohttp in c:\\users\\acer\\anaconda3\\lib\\site-packages (from alpha_vantage) (3.8.4)\n",
      "Requirement already satisfied: requests in c:\\users\\acer\\anaconda3\\lib\\site-packages (from alpha_vantage) (2.28.1)\n",
      "Requirement already satisfied: attrs>=17.3.0 in c:\\users\\acer\\anaconda3\\lib\\site-packages (from aiohttp->alpha_vantage) (22.1.0)\n",
      "Requirement already satisfied: frozenlist>=1.1.1 in c:\\users\\acer\\anaconda3\\lib\\site-packages (from aiohttp->alpha_vantage) (1.3.3)\n",
      "Requirement already satisfied: yarl<2.0,>=1.0 in c:\\users\\acer\\anaconda3\\lib\\site-packages (from aiohttp->alpha_vantage) (1.9.2)\n",
      "Requirement already satisfied: charset-normalizer<4.0,>=2.0 in c:\\users\\acer\\anaconda3\\lib\\site-packages (from aiohttp->alpha_vantage) (2.0.4)\n",
      "Requirement already satisfied: multidict<7.0,>=4.5 in c:\\users\\acer\\anaconda3\\lib\\site-packages (from aiohttp->alpha_vantage) (6.0.4)\n",
      "Requirement already satisfied: aiosignal>=1.1.2 in c:\\users\\acer\\anaconda3\\lib\\site-packages (from aiohttp->alpha_vantage) (1.3.1)\n",
      "Requirement already satisfied: async-timeout<5.0,>=4.0.0a3 in c:\\users\\acer\\anaconda3\\lib\\site-packages (from aiohttp->alpha_vantage) (4.0.2)\n",
      "Requirement already satisfied: idna<4,>=2.5 in c:\\users\\acer\\anaconda3\\lib\\site-packages (from requests->alpha_vantage) (3.4)\n",
      "Requirement already satisfied: urllib3<1.27,>=1.21.1 in c:\\users\\acer\\anaconda3\\lib\\site-packages (from requests->alpha_vantage) (1.26.14)\n",
      "Requirement already satisfied: certifi>=2017.4.17 in c:\\users\\acer\\anaconda3\\lib\\site-packages (from requests->alpha_vantage) (2023.5.7)\n",
      "Note: you may need to restart the kernel to use updated packages.\n"
     ]
    }
   ],
   "source": [
    "pip install alpha_vantage\n"
   ]
  },
  {
   "cell_type": "code",
   "execution_count": 3,
   "id": "e816f057",
   "metadata": {},
   "outputs": [
    {
     "name": "stdout",
     "output_type": "stream",
     "text": [
      "Requirement already satisfied: pandas in c:\\users\\acer\\anaconda3\\lib\\site-packages (1.5.3)\n",
      "Requirement already satisfied: numpy>=1.21.0 in c:\\users\\acer\\anaconda3\\lib\\site-packages (from pandas) (1.23.5)\n",
      "Requirement already satisfied: python-dateutil>=2.8.1 in c:\\users\\acer\\anaconda3\\lib\\site-packages (from pandas) (2.8.2)\n",
      "Requirement already satisfied: pytz>=2020.1 in c:\\users\\acer\\anaconda3\\lib\\site-packages (from pandas) (2022.7)\n",
      "Requirement already satisfied: six>=1.5 in c:\\users\\acer\\anaconda3\\lib\\site-packages (from python-dateutil>=2.8.1->pandas) (1.16.0)\n",
      "Note: you may need to restart the kernel to use updated packages.\n"
     ]
    }
   ],
   "source": [
    "pip install pandas"
   ]
  },
  {
   "cell_type": "markdown",
   "id": "39733f4a",
   "metadata": {},
   "source": [
    "# 1. Define a Class ScriptData which can fetch US Stock data using Alpha Vantage."
   ]
  },
  {
   "cell_type": "code",
   "execution_count": 4,
   "id": "839eceb6",
   "metadata": {},
   "outputs": [],
   "source": [
    "from alpha_vantage.timeseries import TimeSeries"
   ]
  },
  {
   "cell_type": "code",
   "execution_count": 5,
   "id": "89665889",
   "metadata": {},
   "outputs": [],
   "source": [
    "import pandas as pd"
   ]
  },
  {
   "cell_type": "code",
   "execution_count": 6,
   "id": "260bdf03",
   "metadata": {},
   "outputs": [],
   "source": [
    "ALPHAVANTAGE_API_KEY = 'OC43FD8AED2GOMCN'"
   ]
  },
  {
   "cell_type": "code",
   "execution_count": 7,
   "id": "d7bc7a49",
   "metadata": {},
   "outputs": [],
   "source": [
    "class ScriptData:\n",
    "    def __init__(self):\n",
    "        self.data = {}\n",
    "    \n",
    "    def __getitem__(self,key):\n",
    "        return self.data[key]\n",
    "    \n",
    "    def __setitem__(self,key,value):\n",
    "        self.data[key] = value\n",
    "    \n",
    "    def __contains__(self,key):\n",
    "        return key in self.data\n",
    "        \n",
    "    \n",
    "    def fetch_intraday_data(self,script):\n",
    "        ts = TimeSeries(key=ALPHAVANTAGE_API_KEY,indexing_type='date')\n",
    "        data,meta_data = ts.get_intraday(script)\n",
    "        self[script] = data\n",
    "        \n",
    "    \n",
    "    def convert_intraday_data(self,script):\n",
    "        temp = self[script]\n",
    "        df = pd.DataFrame(temp)\n",
    "        df = df.transpose()\n",
    "        df = df.reset_index()\n",
    "        df = df.rename(columns={'index':'timestamp','1. open':'open',\n",
    "                                '2. high':'high','3. low':'low',\n",
    "                                '4. close':'close','5. volume':'volume'\n",
    "                               })\n",
    "        self[script] = df\n",
    "        \n"
   ]
  },
  {
   "cell_type": "code",
   "execution_count": 8,
   "id": "352fa176",
   "metadata": {},
   "outputs": [],
   "source": [
    "script_data = ScriptData()"
   ]
  },
  {
   "cell_type": "code",
   "execution_count": 9,
   "id": "858d0344",
   "metadata": {},
   "outputs": [],
   "source": [
    "script_data.fetch_intraday_data('GOOGL')"
   ]
  },
  {
   "cell_type": "code",
   "execution_count": 10,
   "id": "060c7b2a",
   "metadata": {},
   "outputs": [],
   "source": [
    "script_data.convert_intraday_data('GOOGL')"
   ]
  },
  {
   "cell_type": "code",
   "execution_count": 11,
   "id": "d1cffaf2",
   "metadata": {},
   "outputs": [
    {
     "data": {
      "text/html": [
       "<div>\n",
       "<style scoped>\n",
       "    .dataframe tbody tr th:only-of-type {\n",
       "        vertical-align: middle;\n",
       "    }\n",
       "\n",
       "    .dataframe tbody tr th {\n",
       "        vertical-align: top;\n",
       "    }\n",
       "\n",
       "    .dataframe thead th {\n",
       "        text-align: right;\n",
       "    }\n",
       "</style>\n",
       "<table border=\"1\" class=\"dataframe\">\n",
       "  <thead>\n",
       "    <tr style=\"text-align: right;\">\n",
       "      <th></th>\n",
       "      <th>timestamp</th>\n",
       "      <th>open</th>\n",
       "      <th>high</th>\n",
       "      <th>low</th>\n",
       "      <th>close</th>\n",
       "      <th>volume</th>\n",
       "    </tr>\n",
       "  </thead>\n",
       "  <tbody>\n",
       "    <tr>\n",
       "      <th>0</th>\n",
       "      <td>2023-06-12 19:45:00</td>\n",
       "      <td>123.9200</td>\n",
       "      <td>123.9200</td>\n",
       "      <td>123.8200</td>\n",
       "      <td>123.8300</td>\n",
       "      <td>5411</td>\n",
       "    </tr>\n",
       "    <tr>\n",
       "      <th>1</th>\n",
       "      <td>2023-06-12 19:30:00</td>\n",
       "      <td>123.8500</td>\n",
       "      <td>123.9800</td>\n",
       "      <td>123.8500</td>\n",
       "      <td>123.9500</td>\n",
       "      <td>8597</td>\n",
       "    </tr>\n",
       "    <tr>\n",
       "      <th>2</th>\n",
       "      <td>2023-06-12 19:15:00</td>\n",
       "      <td>123.9400</td>\n",
       "      <td>123.9400</td>\n",
       "      <td>123.7600</td>\n",
       "      <td>123.8500</td>\n",
       "      <td>1112</td>\n",
       "    </tr>\n",
       "    <tr>\n",
       "      <th>3</th>\n",
       "      <td>2023-06-12 19:00:00</td>\n",
       "      <td>123.9000</td>\n",
       "      <td>123.9000</td>\n",
       "      <td>123.8000</td>\n",
       "      <td>123.8000</td>\n",
       "      <td>953</td>\n",
       "    </tr>\n",
       "    <tr>\n",
       "      <th>4</th>\n",
       "      <td>2023-06-12 18:45:00</td>\n",
       "      <td>123.8200</td>\n",
       "      <td>123.9400</td>\n",
       "      <td>123.7900</td>\n",
       "      <td>123.9400</td>\n",
       "      <td>6317</td>\n",
       "    </tr>\n",
       "    <tr>\n",
       "      <th>...</th>\n",
       "      <td>...</td>\n",
       "      <td>...</td>\n",
       "      <td>...</td>\n",
       "      <td>...</td>\n",
       "      <td>...</td>\n",
       "      <td>...</td>\n",
       "    </tr>\n",
       "    <tr>\n",
       "      <th>95</th>\n",
       "      <td>2023-06-09 11:45:00</td>\n",
       "      <td>122.8600</td>\n",
       "      <td>122.8650</td>\n",
       "      <td>122.3201</td>\n",
       "      <td>122.3600</td>\n",
       "      <td>588981</td>\n",
       "    </tr>\n",
       "    <tr>\n",
       "      <th>96</th>\n",
       "      <td>2023-06-09 11:30:00</td>\n",
       "      <td>122.7200</td>\n",
       "      <td>123.0500</td>\n",
       "      <td>122.6100</td>\n",
       "      <td>122.8800</td>\n",
       "      <td>727964</td>\n",
       "    </tr>\n",
       "    <tr>\n",
       "      <th>97</th>\n",
       "      <td>2023-06-09 11:15:00</td>\n",
       "      <td>123.4600</td>\n",
       "      <td>123.4900</td>\n",
       "      <td>122.7000</td>\n",
       "      <td>122.7250</td>\n",
       "      <td>693256</td>\n",
       "    </tr>\n",
       "    <tr>\n",
       "      <th>98</th>\n",
       "      <td>2023-06-09 11:00:00</td>\n",
       "      <td>122.9050</td>\n",
       "      <td>123.4868</td>\n",
       "      <td>122.8750</td>\n",
       "      <td>123.4600</td>\n",
       "      <td>512181</td>\n",
       "    </tr>\n",
       "    <tr>\n",
       "      <th>99</th>\n",
       "      <td>2023-06-09 10:45:00</td>\n",
       "      <td>122.9900</td>\n",
       "      <td>123.1300</td>\n",
       "      <td>122.6100</td>\n",
       "      <td>122.9000</td>\n",
       "      <td>869384</td>\n",
       "    </tr>\n",
       "  </tbody>\n",
       "</table>\n",
       "<p>100 rows × 6 columns</p>\n",
       "</div>"
      ],
      "text/plain": [
       "              timestamp      open      high       low     close  volume\n",
       "0   2023-06-12 19:45:00  123.9200  123.9200  123.8200  123.8300    5411\n",
       "1   2023-06-12 19:30:00  123.8500  123.9800  123.8500  123.9500    8597\n",
       "2   2023-06-12 19:15:00  123.9400  123.9400  123.7600  123.8500    1112\n",
       "3   2023-06-12 19:00:00  123.9000  123.9000  123.8000  123.8000     953\n",
       "4   2023-06-12 18:45:00  123.8200  123.9400  123.7900  123.9400    6317\n",
       "..                  ...       ...       ...       ...       ...     ...\n",
       "95  2023-06-09 11:45:00  122.8600  122.8650  122.3201  122.3600  588981\n",
       "96  2023-06-09 11:30:00  122.7200  123.0500  122.6100  122.8800  727964\n",
       "97  2023-06-09 11:15:00  123.4600  123.4900  122.7000  122.7250  693256\n",
       "98  2023-06-09 11:00:00  122.9050  123.4868  122.8750  123.4600  512181\n",
       "99  2023-06-09 10:45:00  122.9900  123.1300  122.6100  122.9000  869384\n",
       "\n",
       "[100 rows x 6 columns]"
      ]
     },
     "execution_count": 11,
     "metadata": {},
     "output_type": "execute_result"
    }
   ],
   "source": [
    "script_data['GOOGL']"
   ]
  },
  {
   "cell_type": "code",
   "execution_count": 12,
   "id": "c482f9c9",
   "metadata": {},
   "outputs": [
    {
     "data": {
      "text/plain": [
       "True"
      ]
     },
     "execution_count": 12,
     "metadata": {},
     "output_type": "execute_result"
    }
   ],
   "source": [
    "'GOOGL' in script_data"
   ]
  },
  {
   "cell_type": "code",
   "execution_count": 13,
   "id": "5f165abb",
   "metadata": {},
   "outputs": [
    {
     "data": {
      "text/html": [
       "<div>\n",
       "<style scoped>\n",
       "    .dataframe tbody tr th:only-of-type {\n",
       "        vertical-align: middle;\n",
       "    }\n",
       "\n",
       "    .dataframe tbody tr th {\n",
       "        vertical-align: top;\n",
       "    }\n",
       "\n",
       "    .dataframe thead th {\n",
       "        text-align: right;\n",
       "    }\n",
       "</style>\n",
       "<table border=\"1\" class=\"dataframe\">\n",
       "  <thead>\n",
       "    <tr style=\"text-align: right;\">\n",
       "      <th></th>\n",
       "      <th>timestamp</th>\n",
       "      <th>open</th>\n",
       "      <th>high</th>\n",
       "      <th>low</th>\n",
       "      <th>close</th>\n",
       "      <th>volume</th>\n",
       "    </tr>\n",
       "  </thead>\n",
       "  <tbody>\n",
       "    <tr>\n",
       "      <th>0</th>\n",
       "      <td>2023-06-12 19:45:00</td>\n",
       "      <td>181.8500</td>\n",
       "      <td>182.7000</td>\n",
       "      <td>181.5000</td>\n",
       "      <td>182.5099</td>\n",
       "      <td>148977</td>\n",
       "    </tr>\n",
       "    <tr>\n",
       "      <th>1</th>\n",
       "      <td>2023-06-12 19:30:00</td>\n",
       "      <td>183.8800</td>\n",
       "      <td>183.9900</td>\n",
       "      <td>181.6300</td>\n",
       "      <td>181.7700</td>\n",
       "      <td>209997</td>\n",
       "    </tr>\n",
       "    <tr>\n",
       "      <th>2</th>\n",
       "      <td>2023-06-12 19:15:00</td>\n",
       "      <td>184.2000</td>\n",
       "      <td>184.3500</td>\n",
       "      <td>183.7900</td>\n",
       "      <td>183.7900</td>\n",
       "      <td>74450</td>\n",
       "    </tr>\n",
       "    <tr>\n",
       "      <th>3</th>\n",
       "      <td>2023-06-12 19:00:00</td>\n",
       "      <td>184.2900</td>\n",
       "      <td>184.2900</td>\n",
       "      <td>184.1700</td>\n",
       "      <td>184.1700</td>\n",
       "      <td>8656</td>\n",
       "    </tr>\n",
       "    <tr>\n",
       "      <th>4</th>\n",
       "      <td>2023-06-12 18:45:00</td>\n",
       "      <td>184.0700</td>\n",
       "      <td>184.2800</td>\n",
       "      <td>184.0700</td>\n",
       "      <td>184.2800</td>\n",
       "      <td>17603</td>\n",
       "    </tr>\n",
       "    <tr>\n",
       "      <th>...</th>\n",
       "      <td>...</td>\n",
       "      <td>...</td>\n",
       "      <td>...</td>\n",
       "      <td>...</td>\n",
       "      <td>...</td>\n",
       "      <td>...</td>\n",
       "    </tr>\n",
       "    <tr>\n",
       "      <th>95</th>\n",
       "      <td>2023-06-09 12:00:00</td>\n",
       "      <td>180.9000</td>\n",
       "      <td>181.3900</td>\n",
       "      <td>180.6300</td>\n",
       "      <td>181.3700</td>\n",
       "      <td>1356637</td>\n",
       "    </tr>\n",
       "    <tr>\n",
       "      <th>96</th>\n",
       "      <td>2023-06-09 11:45:00</td>\n",
       "      <td>181.4550</td>\n",
       "      <td>181.4900</td>\n",
       "      <td>180.8600</td>\n",
       "      <td>180.9200</td>\n",
       "      <td>1156788</td>\n",
       "    </tr>\n",
       "    <tr>\n",
       "      <th>97</th>\n",
       "      <td>2023-06-09 11:30:00</td>\n",
       "      <td>181.2250</td>\n",
       "      <td>181.4900</td>\n",
       "      <td>180.9700</td>\n",
       "      <td>181.4587</td>\n",
       "      <td>1570584</td>\n",
       "    </tr>\n",
       "    <tr>\n",
       "      <th>98</th>\n",
       "      <td>2023-06-09 11:15:00</td>\n",
       "      <td>182.0600</td>\n",
       "      <td>182.0650</td>\n",
       "      <td>181.1300</td>\n",
       "      <td>181.2300</td>\n",
       "      <td>1941793</td>\n",
       "    </tr>\n",
       "    <tr>\n",
       "      <th>99</th>\n",
       "      <td>2023-06-09 11:00:00</td>\n",
       "      <td>181.3988</td>\n",
       "      <td>182.0700</td>\n",
       "      <td>181.3300</td>\n",
       "      <td>182.0700</td>\n",
       "      <td>1498549</td>\n",
       "    </tr>\n",
       "  </tbody>\n",
       "</table>\n",
       "<p>100 rows × 6 columns</p>\n",
       "</div>"
      ],
      "text/plain": [
       "              timestamp      open      high       low     close   volume\n",
       "0   2023-06-12 19:45:00  181.8500  182.7000  181.5000  182.5099   148977\n",
       "1   2023-06-12 19:30:00  183.8800  183.9900  181.6300  181.7700   209997\n",
       "2   2023-06-12 19:15:00  184.2000  184.3500  183.7900  183.7900    74450\n",
       "3   2023-06-12 19:00:00  184.2900  184.2900  184.1700  184.1700     8656\n",
       "4   2023-06-12 18:45:00  184.0700  184.2800  184.0700  184.2800    17603\n",
       "..                  ...       ...       ...       ...       ...      ...\n",
       "95  2023-06-09 12:00:00  180.9000  181.3900  180.6300  181.3700  1356637\n",
       "96  2023-06-09 11:45:00  181.4550  181.4900  180.8600  180.9200  1156788\n",
       "97  2023-06-09 11:30:00  181.2250  181.4900  180.9700  181.4587  1570584\n",
       "98  2023-06-09 11:15:00  182.0600  182.0650  181.1300  181.2300  1941793\n",
       "99  2023-06-09 11:00:00  181.3988  182.0700  181.3300  182.0700  1498549\n",
       "\n",
       "[100 rows x 6 columns]"
      ]
     },
     "execution_count": 13,
     "metadata": {},
     "output_type": "execute_result"
    }
   ],
   "source": [
    "script_data.fetch_intraday_data('AAPL')\n",
    "script_data.convert_intraday_data('AAPL')\n",
    "script_data['AAPL']"
   ]
  },
  {
   "cell_type": "code",
   "execution_count": 14,
   "id": "6d9c1152",
   "metadata": {},
   "outputs": [
    {
     "data": {
      "text/plain": [
       "True"
      ]
     },
     "execution_count": 14,
     "metadata": {},
     "output_type": "execute_result"
    }
   ],
   "source": [
    "'GOOGL' in script_data"
   ]
  },
  {
   "cell_type": "code",
   "execution_count": 15,
   "id": "b1c5b6ba",
   "metadata": {},
   "outputs": [
    {
     "data": {
      "text/plain": [
       "True"
      ]
     },
     "execution_count": 15,
     "metadata": {},
     "output_type": "execute_result"
    }
   ],
   "source": [
    "'AAPL' in script_data"
   ]
  },
  {
   "cell_type": "code",
   "execution_count": 16,
   "id": "cdec6a3e",
   "metadata": {},
   "outputs": [
    {
     "data": {
      "text/plain": [
       "False"
      ]
     },
     "execution_count": 16,
     "metadata": {},
     "output_type": "execute_result"
    }
   ],
   "source": [
    "'NVDA' in script_data"
   ]
  },
  {
   "cell_type": "code",
   "execution_count": 17,
   "id": "5c7cdbd8",
   "metadata": {},
   "outputs": [],
   "source": [
    "def indicator1(df,timeperiod):\n",
    "    df['indicator'] = df['close'].rolling(timeperiod).mean()\n",
    "    new_df = df[['timestamp','indicator']].copy()\n",
    "    return new_df"
   ]
  },
  {
   "cell_type": "code",
   "execution_count": 18,
   "id": "1b3bb25e",
   "metadata": {},
   "outputs": [
    {
     "data": {
      "text/html": [
       "<div>\n",
       "<style scoped>\n",
       "    .dataframe tbody tr th:only-of-type {\n",
       "        vertical-align: middle;\n",
       "    }\n",
       "\n",
       "    .dataframe tbody tr th {\n",
       "        vertical-align: top;\n",
       "    }\n",
       "\n",
       "    .dataframe thead th {\n",
       "        text-align: right;\n",
       "    }\n",
       "</style>\n",
       "<table border=\"1\" class=\"dataframe\">\n",
       "  <thead>\n",
       "    <tr style=\"text-align: right;\">\n",
       "      <th></th>\n",
       "      <th>timestamp</th>\n",
       "      <th>indicator</th>\n",
       "    </tr>\n",
       "  </thead>\n",
       "  <tbody>\n",
       "    <tr>\n",
       "      <th>0</th>\n",
       "      <td>2023-06-12 19:45:00</td>\n",
       "      <td>NaN</td>\n",
       "    </tr>\n",
       "    <tr>\n",
       "      <th>1</th>\n",
       "      <td>2023-06-12 19:30:00</td>\n",
       "      <td>NaN</td>\n",
       "    </tr>\n",
       "    <tr>\n",
       "      <th>2</th>\n",
       "      <td>2023-06-12 19:15:00</td>\n",
       "      <td>NaN</td>\n",
       "    </tr>\n",
       "    <tr>\n",
       "      <th>3</th>\n",
       "      <td>2023-06-12 19:00:00</td>\n",
       "      <td>NaN</td>\n",
       "    </tr>\n",
       "    <tr>\n",
       "      <th>4</th>\n",
       "      <td>2023-06-12 18:45:00</td>\n",
       "      <td>123.874</td>\n",
       "    </tr>\n",
       "    <tr>\n",
       "      <th>...</th>\n",
       "      <td>...</td>\n",
       "      <td>...</td>\n",
       "    </tr>\n",
       "    <tr>\n",
       "      <th>95</th>\n",
       "      <td>2023-06-09 11:45:00</td>\n",
       "      <td>122.324</td>\n",
       "    </tr>\n",
       "    <tr>\n",
       "      <th>96</th>\n",
       "      <td>2023-06-09 11:30:00</td>\n",
       "      <td>122.412</td>\n",
       "    </tr>\n",
       "    <tr>\n",
       "      <th>97</th>\n",
       "      <td>2023-06-09 11:15:00</td>\n",
       "      <td>122.511</td>\n",
       "    </tr>\n",
       "    <tr>\n",
       "      <th>98</th>\n",
       "      <td>2023-06-09 11:00:00</td>\n",
       "      <td>122.757</td>\n",
       "    </tr>\n",
       "    <tr>\n",
       "      <th>99</th>\n",
       "      <td>2023-06-09 10:45:00</td>\n",
       "      <td>122.865</td>\n",
       "    </tr>\n",
       "  </tbody>\n",
       "</table>\n",
       "<p>100 rows × 2 columns</p>\n",
       "</div>"
      ],
      "text/plain": [
       "              timestamp  indicator\n",
       "0   2023-06-12 19:45:00        NaN\n",
       "1   2023-06-12 19:30:00        NaN\n",
       "2   2023-06-12 19:15:00        NaN\n",
       "3   2023-06-12 19:00:00        NaN\n",
       "4   2023-06-12 18:45:00    123.874\n",
       "..                  ...        ...\n",
       "95  2023-06-09 11:45:00    122.324\n",
       "96  2023-06-09 11:30:00    122.412\n",
       "97  2023-06-09 11:15:00    122.511\n",
       "98  2023-06-09 11:00:00    122.757\n",
       "99  2023-06-09 10:45:00    122.865\n",
       "\n",
       "[100 rows x 2 columns]"
      ]
     },
     "execution_count": 18,
     "metadata": {},
     "output_type": "execute_result"
    }
   ],
   "source": [
    "indicator1(script_data['GOOGL'],timeperiod=5)"
   ]
  },
  {
   "cell_type": "code",
   "execution_count": 19,
   "id": "9bf16a77",
   "metadata": {},
   "outputs": [],
   "source": [
    "class Strategy:\n",
    "    def __init__(self,script_name):\n",
    "        self.script = script_name\n",
    "        self.data = {}\n",
    "        self.indicator_data = None\n",
    "    \n",
    "    def get_script_data(self):\n",
    "        script_data = ScriptData()\n",
    "        script_data.fetch_intraday_data(self.script)\n",
    "        script_data.convert_intraday_data(self.script)\n",
    "        self.data = script_data[self.script]\n",
    "        self.compute_indicator_data()\n",
    "        \n",
    "    def compute_indicator_data(self):\n",
    "        self.indicator_data = indicator1(self.data,2)\n",
    "    \n",
    "    def get_signals(self):\n",
    "        signals = pd.DataFrame({'timestamp':self.data['timestamp']})\n",
    "        signals['signal'] = 'NO_SIGNAL'\n",
    "        self.data['close'] = self.data['close'].astype(float)\n",
    "        signals.loc[self.indicator_data['indicator'] > self.data['close'], 'signal'] = 'BUY'\n",
    "        signals.loc[self.indicator_data['indicator'] < self.data['close'], 'signal'] = 'SELL'\n",
    "        display(signals)\n",
    "        "
   ]
  },
  {
   "cell_type": "code",
   "execution_count": 20,
   "id": "2fc4ed3f",
   "metadata": {},
   "outputs": [],
   "source": [
    "strategy = Strategy('NVDA')"
   ]
  },
  {
   "cell_type": "code",
   "execution_count": 21,
   "id": "86ee6fdf",
   "metadata": {},
   "outputs": [],
   "source": [
    "strategy.get_script_data()"
   ]
  },
  {
   "cell_type": "code",
   "execution_count": 22,
   "id": "b616192a",
   "metadata": {},
   "outputs": [
    {
     "data": {
      "text/html": [
       "<div>\n",
       "<style scoped>\n",
       "    .dataframe tbody tr th:only-of-type {\n",
       "        vertical-align: middle;\n",
       "    }\n",
       "\n",
       "    .dataframe tbody tr th {\n",
       "        vertical-align: top;\n",
       "    }\n",
       "\n",
       "    .dataframe thead th {\n",
       "        text-align: right;\n",
       "    }\n",
       "</style>\n",
       "<table border=\"1\" class=\"dataframe\">\n",
       "  <thead>\n",
       "    <tr style=\"text-align: right;\">\n",
       "      <th></th>\n",
       "      <th>timestamp</th>\n",
       "      <th>signal</th>\n",
       "    </tr>\n",
       "  </thead>\n",
       "  <tbody>\n",
       "    <tr>\n",
       "      <th>0</th>\n",
       "      <td>2023-06-12 19:45:00</td>\n",
       "      <td>NO_SIGNAL</td>\n",
       "    </tr>\n",
       "    <tr>\n",
       "      <th>1</th>\n",
       "      <td>2023-06-12 19:30:00</td>\n",
       "      <td>BUY</td>\n",
       "    </tr>\n",
       "    <tr>\n",
       "      <th>2</th>\n",
       "      <td>2023-06-12 19:15:00</td>\n",
       "      <td>SELL</td>\n",
       "    </tr>\n",
       "    <tr>\n",
       "      <th>3</th>\n",
       "      <td>2023-06-12 19:00:00</td>\n",
       "      <td>SELL</td>\n",
       "    </tr>\n",
       "    <tr>\n",
       "      <th>4</th>\n",
       "      <td>2023-06-12 18:45:00</td>\n",
       "      <td>SELL</td>\n",
       "    </tr>\n",
       "    <tr>\n",
       "      <th>...</th>\n",
       "      <td>...</td>\n",
       "      <td>...</td>\n",
       "    </tr>\n",
       "    <tr>\n",
       "      <th>95</th>\n",
       "      <td>2023-06-09 11:45:00</td>\n",
       "      <td>BUY</td>\n",
       "    </tr>\n",
       "    <tr>\n",
       "      <th>96</th>\n",
       "      <td>2023-06-09 11:30:00</td>\n",
       "      <td>SELL</td>\n",
       "    </tr>\n",
       "    <tr>\n",
       "      <th>97</th>\n",
       "      <td>2023-06-09 11:15:00</td>\n",
       "      <td>BUY</td>\n",
       "    </tr>\n",
       "    <tr>\n",
       "      <th>98</th>\n",
       "      <td>2023-06-09 11:00:00</td>\n",
       "      <td>SELL</td>\n",
       "    </tr>\n",
       "    <tr>\n",
       "      <th>99</th>\n",
       "      <td>2023-06-09 10:45:00</td>\n",
       "      <td>BUY</td>\n",
       "    </tr>\n",
       "  </tbody>\n",
       "</table>\n",
       "<p>100 rows × 2 columns</p>\n",
       "</div>"
      ],
      "text/plain": [
       "              timestamp     signal\n",
       "0   2023-06-12 19:45:00  NO_SIGNAL\n",
       "1   2023-06-12 19:30:00        BUY\n",
       "2   2023-06-12 19:15:00       SELL\n",
       "3   2023-06-12 19:00:00       SELL\n",
       "4   2023-06-12 18:45:00       SELL\n",
       "..                  ...        ...\n",
       "95  2023-06-09 11:45:00        BUY\n",
       "96  2023-06-09 11:30:00       SELL\n",
       "97  2023-06-09 11:15:00        BUY\n",
       "98  2023-06-09 11:00:00       SELL\n",
       "99  2023-06-09 10:45:00        BUY\n",
       "\n",
       "[100 rows x 2 columns]"
      ]
     },
     "metadata": {},
     "output_type": "display_data"
    }
   ],
   "source": [
    "strategy.get_signals()"
   ]
  },
  {
   "cell_type": "code",
   "execution_count": 23,
   "id": "ba77e2a5",
   "metadata": {
    "scrolled": true
   },
   "outputs": [
    {
     "name": "stdout",
     "output_type": "stream",
     "text": [
      "Requirement already satisfied: pyalgotrading in c:\\users\\acer\\anaconda3\\lib\\site-packages (2023.6.1)\n",
      "Requirement already satisfied: requests>=2.24.0 in c:\\users\\acer\\anaconda3\\lib\\site-packages (from pyalgotrading) (2.28.1)\n",
      "Requirement already satisfied: pandas>=0.25.3 in c:\\users\\acer\\anaconda3\\lib\\site-packages (from pyalgotrading) (1.5.3)\n",
      "Requirement already satisfied: numpy>=1.21.0 in c:\\users\\acer\\anaconda3\\lib\\site-packages (from pandas>=0.25.3->pyalgotrading) (1.23.5)\n",
      "Requirement already satisfied: python-dateutil>=2.8.1 in c:\\users\\acer\\anaconda3\\lib\\site-packages (from pandas>=0.25.3->pyalgotrading) (2.8.2)\n",
      "Requirement already satisfied: pytz>=2020.1 in c:\\users\\acer\\anaconda3\\lib\\site-packages (from pandas>=0.25.3->pyalgotrading) (2022.7)\n",
      "Requirement already satisfied: certifi>=2017.4.17 in c:\\users\\acer\\anaconda3\\lib\\site-packages (from requests>=2.24.0->pyalgotrading) (2023.5.7)\n",
      "Requirement already satisfied: charset-normalizer<3,>=2 in c:\\users\\acer\\anaconda3\\lib\\site-packages (from requests>=2.24.0->pyalgotrading) (2.0.4)\n",
      "Requirement already satisfied: urllib3<1.27,>=1.21.1 in c:\\users\\acer\\anaconda3\\lib\\site-packages (from requests>=2.24.0->pyalgotrading) (1.26.14)\n",
      "Requirement already satisfied: idna<4,>=2.5 in c:\\users\\acer\\anaconda3\\lib\\site-packages (from requests>=2.24.0->pyalgotrading) (3.4)\n",
      "Requirement already satisfied: six>=1.5 in c:\\users\\acer\\anaconda3\\lib\\site-packages (from python-dateutil>=2.8.1->pandas>=0.25.3->pyalgotrading) (1.16.0)\n",
      "Note: you may need to restart the kernel to use updated packages.\n"
     ]
    }
   ],
   "source": [
    "pip install pyalgotrading"
   ]
  },
  {
   "cell_type": "code",
   "execution_count": 24,
   "id": "20286678",
   "metadata": {},
   "outputs": [
    {
     "ename": "ImportError",
     "evalue": "cannot import name 'LivePlot' from 'pyalgotrading' (C:\\Users\\ACER\\anaconda3\\lib\\site-packages\\pyalgotrading\\__init__.py)",
     "output_type": "error",
     "traceback": [
      "\u001b[1;31m---------------------------------------------------------------------------\u001b[0m",
      "\u001b[1;31mImportError\u001b[0m                               Traceback (most recent call last)",
      "Cell \u001b[1;32mIn[24], line 1\u001b[0m\n\u001b[1;32m----> 1\u001b[0m \u001b[38;5;28;01mfrom\u001b[39;00m \u001b[38;5;21;01mpyalgotrading\u001b[39;00m \u001b[38;5;28;01mimport\u001b[39;00m LivePlot\n\u001b[0;32m      2\u001b[0m \u001b[38;5;28;01mimport\u001b[39;00m \u001b[38;5;21;01mmatplotlib\u001b[39;00m\u001b[38;5;21;01m.\u001b[39;00m\u001b[38;5;21;01mpyplot\u001b[39;00m \u001b[38;5;28;01mas\u001b[39;00m \u001b[38;5;21;01mplt\u001b[39;00m\n",
      "\u001b[1;31mImportError\u001b[0m: cannot import name 'LivePlot' from 'pyalgotrading' (C:\\Users\\ACER\\anaconda3\\lib\\site-packages\\pyalgotrading\\__init__.py)"
     ]
    }
   ],
   "source": [
    "from pyalgotrading import LivePlot\n",
    "import matplotlib.pyplot as plt"
   ]
  },
  {
   "cell_type": "code",
   "execution_count": null,
   "id": "78049bd8",
   "metadata": {},
   "outputs": [],
   "source": []
  }
 ],
 "metadata": {
  "kernelspec": {
   "display_name": "Python 3 (ipykernel)",
   "language": "python",
   "name": "python3"
  },
  "language_info": {
   "codemirror_mode": {
    "name": "ipython",
    "version": 3
   },
   "file_extension": ".py",
   "mimetype": "text/x-python",
   "name": "python",
   "nbconvert_exporter": "python",
   "pygments_lexer": "ipython3",
   "version": "3.10.9"
  }
 },
 "nbformat": 4,
 "nbformat_minor": 5
}
