{
 "cells": [
  {
   "cell_type": "code",
   "execution_count": 1,
   "id": "ae3ffa98",
   "metadata": {
    "scrolled": false
   },
   "outputs": [
    {
     "name": "stdout",
     "output_type": "stream",
     "text": [
      "Note: you may need to restart the kernel to use updated packages.\n"
     ]
    },
    {
     "name": "stderr",
     "output_type": "stream",
     "text": [
      "ERROR: Could not find a version that satisfies the requirement alpha_vintage (from versions: none)\n",
      "ERROR: No matching distribution found for alpha_vintage\n"
     ]
    }
   ],
   "source": [
    "pip install alpha_vintage"
   ]
  },
  {
   "cell_type": "code",
   "execution_count": 2,
   "id": "92a5d249",
   "metadata": {},
   "outputs": [
    {
     "name": "stdout",
     "output_type": "stream",
     "text": [
      "Requirement already satisfied: alpha_vantage in c:\\users\\acer\\anaconda3\\lib\\site-packages (2.3.1)\n",
      "Requirement already satisfied: aiohttp in c:\\users\\acer\\anaconda3\\lib\\site-packages (from alpha_vantage) (3.8.4)\n",
      "Requirement already satisfied: requests in c:\\users\\acer\\anaconda3\\lib\\site-packages (from alpha_vantage) (2.28.1)\n",
      "Requirement already satisfied: attrs>=17.3.0 in c:\\users\\acer\\anaconda3\\lib\\site-packages (from aiohttp->alpha_vantage) (22.1.0)\n",
      "Requirement already satisfied: frozenlist>=1.1.1 in c:\\users\\acer\\anaconda3\\lib\\site-packages (from aiohttp->alpha_vantage) (1.3.3)\n",
      "Requirement already satisfied: yarl<2.0,>=1.0 in c:\\users\\acer\\anaconda3\\lib\\site-packages (from aiohttp->alpha_vantage) (1.9.2)\n",
      "Requirement already satisfied: charset-normalizer<4.0,>=2.0 in c:\\users\\acer\\anaconda3\\lib\\site-packages (from aiohttp->alpha_vantage) (2.0.4)\n",
      "Requirement already satisfied: multidict<7.0,>=4.5 in c:\\users\\acer\\anaconda3\\lib\\site-packages (from aiohttp->alpha_vantage) (6.0.4)\n",
      "Requirement already satisfied: aiosignal>=1.1.2 in c:\\users\\acer\\anaconda3\\lib\\site-packages (from aiohttp->alpha_vantage) (1.3.1)\n",
      "Requirement already satisfied: async-timeout<5.0,>=4.0.0a3 in c:\\users\\acer\\anaconda3\\lib\\site-packages (from aiohttp->alpha_vantage) (4.0.2)\n",
      "Requirement already satisfied: idna<4,>=2.5 in c:\\users\\acer\\anaconda3\\lib\\site-packages (from requests->alpha_vantage) (3.4)\n",
      "Requirement already satisfied: urllib3<1.27,>=1.21.1 in c:\\users\\acer\\anaconda3\\lib\\site-packages (from requests->alpha_vantage) (1.26.14)\n",
      "Requirement already satisfied: certifi>=2017.4.17 in c:\\users\\acer\\anaconda3\\lib\\site-packages (from requests->alpha_vantage) (2023.5.7)\n",
      "Note: you may need to restart the kernel to use updated packages.\n"
     ]
    }
   ],
   "source": [
    "pip install alpha_vantage\n"
   ]
  },
  {
   "cell_type": "code",
   "execution_count": 3,
   "id": "e816f057",
   "metadata": {},
   "outputs": [
    {
     "name": "stdout",
     "output_type": "stream",
     "text": [
      "Requirement already satisfied: pandas in c:\\users\\acer\\anaconda3\\lib\\site-packages (1.5.3)\n",
      "Requirement already satisfied: numpy>=1.21.0 in c:\\users\\acer\\anaconda3\\lib\\site-packages (from pandas) (1.23.5)\n",
      "Requirement already satisfied: python-dateutil>=2.8.1 in c:\\users\\acer\\anaconda3\\lib\\site-packages (from pandas) (2.8.2)\n",
      "Requirement already satisfied: pytz>=2020.1 in c:\\users\\acer\\anaconda3\\lib\\site-packages (from pandas) (2022.7)\n",
      "Requirement already satisfied: six>=1.5 in c:\\users\\acer\\anaconda3\\lib\\site-packages (from python-dateutil>=2.8.1->pandas) (1.16.0)\n",
      "Note: you may need to restart the kernel to use updated packages.\n"
     ]
    }
   ],
   "source": [
    "pip install pandas"
   ]
  },
  {
   "cell_type": "markdown",
   "id": "39733f4a",
   "metadata": {},
   "source": [
    "# 1. Define a Class ScriptData which can fetch US Stock data using Alpha Vantage."
   ]
  },
  {
   "cell_type": "code",
   "execution_count": 1,
   "id": "839eceb6",
   "metadata": {},
   "outputs": [],
   "source": [
    "from alpha_vantage.timeseries import TimeSeries"
   ]
  },
  {
   "cell_type": "code",
   "execution_count": 2,
   "id": "89665889",
   "metadata": {},
   "outputs": [],
   "source": [
    "import pandas as pd"
   ]
  },
  {
   "cell_type": "code",
   "execution_count": 3,
   "id": "260bdf03",
   "metadata": {},
   "outputs": [],
   "source": [
    "ALPHAVANTAGE_API_KEY = 'OC43FD8AED2GOMCN'"
   ]
  },
  {
   "cell_type": "code",
   "execution_count": 4,
   "id": "d7bc7a49",
   "metadata": {},
   "outputs": [],
   "source": [
    "class ScriptData:\n",
    "    def __init__(self):\n",
    "        self.data = {}\n",
    "    \n",
    "    def __getitem__(self,key):\n",
    "        return self.data[key]\n",
    "    \n",
    "    def __setitem__(self,key,value):\n",
    "        self.data[key] = value\n",
    "    \n",
    "    def __contains__(self,key):\n",
    "        return key in self.data\n",
    "        \n",
    "    \n",
    "    def fetch_intraday_data(self,script):\n",
    "        ts = TimeSeries(key=ALPHAVANTAGE_API_KEY,indexing_type='date')\n",
    "        data,meta_data = ts.get_intraday(script)\n",
    "        self[script] = data\n",
    "        \n",
    "    \n",
    "    def convert_intraday_data(self,script):\n",
    "        temp = self[script]\n",
    "        df = pd.DataFrame(temp)\n",
    "        df = df.transpose()\n",
    "        df = df.reset_index()\n",
    "        df = df.rename(columns={'index':'timestamp','1. open':'open',\n",
    "                                '2. high':'high','3. low':'low',\n",
    "                                '4. close':'close','5. volume':'volume'\n",
    "                               })\n",
    "        df['open'] = df['open'].astype(float)\n",
    "        df['high'] = df['high'].astype(float)\n",
    "        df['low'] = df['low'].astype(float)\n",
    "        df['close'] = df['close'].astype(float)\n",
    "        df['volume'] = df['volume'].astype(int)\n",
    "        self[script] = df\n",
    "        \n"
   ]
  },
  {
   "cell_type": "code",
   "execution_count": 5,
   "id": "352fa176",
   "metadata": {},
   "outputs": [],
   "source": [
    "script_data = ScriptData()"
   ]
  },
  {
   "cell_type": "code",
   "execution_count": 6,
   "id": "858d0344",
   "metadata": {},
   "outputs": [],
   "source": [
    "script_data.fetch_intraday_data('GOOGL')"
   ]
  },
  {
   "cell_type": "code",
   "execution_count": 7,
   "id": "060c7b2a",
   "metadata": {},
   "outputs": [],
   "source": [
    "script_data.convert_intraday_data('GOOGL')"
   ]
  },
  {
   "cell_type": "code",
   "execution_count": 8,
   "id": "d1cffaf2",
   "metadata": {},
   "outputs": [
    {
     "data": {
      "text/html": [
       "<div>\n",
       "<style scoped>\n",
       "    .dataframe tbody tr th:only-of-type {\n",
       "        vertical-align: middle;\n",
       "    }\n",
       "\n",
       "    .dataframe tbody tr th {\n",
       "        vertical-align: top;\n",
       "    }\n",
       "\n",
       "    .dataframe thead th {\n",
       "        text-align: right;\n",
       "    }\n",
       "</style>\n",
       "<table border=\"1\" class=\"dataframe\">\n",
       "  <thead>\n",
       "    <tr style=\"text-align: right;\">\n",
       "      <th></th>\n",
       "      <th>timestamp</th>\n",
       "      <th>open</th>\n",
       "      <th>high</th>\n",
       "      <th>low</th>\n",
       "      <th>close</th>\n",
       "      <th>volume</th>\n",
       "    </tr>\n",
       "  </thead>\n",
       "  <tbody>\n",
       "    <tr>\n",
       "      <th>0</th>\n",
       "      <td>2023-06-13 19:45:00</td>\n",
       "      <td>123.8600</td>\n",
       "      <td>123.8600</td>\n",
       "      <td>123.7900</td>\n",
       "      <td>123.8100</td>\n",
       "      <td>12957</td>\n",
       "    </tr>\n",
       "    <tr>\n",
       "      <th>1</th>\n",
       "      <td>2023-06-13 19:30:00</td>\n",
       "      <td>123.9700</td>\n",
       "      <td>123.9700</td>\n",
       "      <td>123.8600</td>\n",
       "      <td>123.8600</td>\n",
       "      <td>3393</td>\n",
       "    </tr>\n",
       "    <tr>\n",
       "      <th>2</th>\n",
       "      <td>2023-06-13 19:15:00</td>\n",
       "      <td>123.9200</td>\n",
       "      <td>123.9300</td>\n",
       "      <td>123.8800</td>\n",
       "      <td>123.8800</td>\n",
       "      <td>2913</td>\n",
       "    </tr>\n",
       "    <tr>\n",
       "      <th>3</th>\n",
       "      <td>2023-06-13 19:00:00</td>\n",
       "      <td>123.9100</td>\n",
       "      <td>123.9100</td>\n",
       "      <td>123.9100</td>\n",
       "      <td>123.9100</td>\n",
       "      <td>785</td>\n",
       "    </tr>\n",
       "    <tr>\n",
       "      <th>4</th>\n",
       "      <td>2023-06-13 18:45:00</td>\n",
       "      <td>123.9932</td>\n",
       "      <td>123.9932</td>\n",
       "      <td>123.9932</td>\n",
       "      <td>123.9932</td>\n",
       "      <td>155</td>\n",
       "    </tr>\n",
       "    <tr>\n",
       "      <th>...</th>\n",
       "      <td>...</td>\n",
       "      <td>...</td>\n",
       "      <td>...</td>\n",
       "      <td>...</td>\n",
       "      <td>...</td>\n",
       "      <td>...</td>\n",
       "    </tr>\n",
       "    <tr>\n",
       "      <th>95</th>\n",
       "      <td>2023-06-12 11:30:00</td>\n",
       "      <td>122.2600</td>\n",
       "      <td>122.5000</td>\n",
       "      <td>122.2500</td>\n",
       "      <td>122.3450</td>\n",
       "      <td>866903</td>\n",
       "    </tr>\n",
       "    <tr>\n",
       "      <th>96</th>\n",
       "      <td>2023-06-12 11:15:00</td>\n",
       "      <td>122.1000</td>\n",
       "      <td>122.4400</td>\n",
       "      <td>122.0910</td>\n",
       "      <td>122.2600</td>\n",
       "      <td>570231</td>\n",
       "    </tr>\n",
       "    <tr>\n",
       "      <th>97</th>\n",
       "      <td>2023-06-12 11:00:00</td>\n",
       "      <td>122.1600</td>\n",
       "      <td>122.2771</td>\n",
       "      <td>121.9850</td>\n",
       "      <td>122.1000</td>\n",
       "      <td>562856</td>\n",
       "    </tr>\n",
       "    <tr>\n",
       "      <th>98</th>\n",
       "      <td>2023-06-12 10:45:00</td>\n",
       "      <td>122.1590</td>\n",
       "      <td>122.4199</td>\n",
       "      <td>122.0550</td>\n",
       "      <td>122.1600</td>\n",
       "      <td>694492</td>\n",
       "    </tr>\n",
       "    <tr>\n",
       "      <th>99</th>\n",
       "      <td>2023-06-12 10:30:00</td>\n",
       "      <td>122.1600</td>\n",
       "      <td>122.3000</td>\n",
       "      <td>121.9400</td>\n",
       "      <td>122.1500</td>\n",
       "      <td>702595</td>\n",
       "    </tr>\n",
       "  </tbody>\n",
       "</table>\n",
       "<p>100 rows × 6 columns</p>\n",
       "</div>"
      ],
      "text/plain": [
       "              timestamp      open      high       low     close  volume\n",
       "0   2023-06-13 19:45:00  123.8600  123.8600  123.7900  123.8100   12957\n",
       "1   2023-06-13 19:30:00  123.9700  123.9700  123.8600  123.8600    3393\n",
       "2   2023-06-13 19:15:00  123.9200  123.9300  123.8800  123.8800    2913\n",
       "3   2023-06-13 19:00:00  123.9100  123.9100  123.9100  123.9100     785\n",
       "4   2023-06-13 18:45:00  123.9932  123.9932  123.9932  123.9932     155\n",
       "..                  ...       ...       ...       ...       ...     ...\n",
       "95  2023-06-12 11:30:00  122.2600  122.5000  122.2500  122.3450  866903\n",
       "96  2023-06-12 11:15:00  122.1000  122.4400  122.0910  122.2600  570231\n",
       "97  2023-06-12 11:00:00  122.1600  122.2771  121.9850  122.1000  562856\n",
       "98  2023-06-12 10:45:00  122.1590  122.4199  122.0550  122.1600  694492\n",
       "99  2023-06-12 10:30:00  122.1600  122.3000  121.9400  122.1500  702595\n",
       "\n",
       "[100 rows x 6 columns]"
      ]
     },
     "execution_count": 8,
     "metadata": {},
     "output_type": "execute_result"
    }
   ],
   "source": [
    "script_data['GOOGL']"
   ]
  },
  {
   "cell_type": "code",
   "execution_count": 9,
   "id": "c482f9c9",
   "metadata": {},
   "outputs": [
    {
     "data": {
      "text/plain": [
       "True"
      ]
     },
     "execution_count": 9,
     "metadata": {},
     "output_type": "execute_result"
    }
   ],
   "source": [
    "'GOOGL' in script_data"
   ]
  },
  {
   "cell_type": "code",
   "execution_count": 10,
   "id": "5f165abb",
   "metadata": {},
   "outputs": [
    {
     "data": {
      "text/html": [
       "<div>\n",
       "<style scoped>\n",
       "    .dataframe tbody tr th:only-of-type {\n",
       "        vertical-align: middle;\n",
       "    }\n",
       "\n",
       "    .dataframe tbody tr th {\n",
       "        vertical-align: top;\n",
       "    }\n",
       "\n",
       "    .dataframe thead th {\n",
       "        text-align: right;\n",
       "    }\n",
       "</style>\n",
       "<table border=\"1\" class=\"dataframe\">\n",
       "  <thead>\n",
       "    <tr style=\"text-align: right;\">\n",
       "      <th></th>\n",
       "      <th>timestamp</th>\n",
       "      <th>open</th>\n",
       "      <th>high</th>\n",
       "      <th>low</th>\n",
       "      <th>close</th>\n",
       "      <th>volume</th>\n",
       "    </tr>\n",
       "  </thead>\n",
       "  <tbody>\n",
       "    <tr>\n",
       "      <th>0</th>\n",
       "      <td>2023-06-13 19:45:00</td>\n",
       "      <td>183.1500</td>\n",
       "      <td>183.15</td>\n",
       "      <td>183.050</td>\n",
       "      <td>183.0799</td>\n",
       "      <td>14292</td>\n",
       "    </tr>\n",
       "    <tr>\n",
       "      <th>1</th>\n",
       "      <td>2023-06-13 19:30:00</td>\n",
       "      <td>183.2100</td>\n",
       "      <td>183.22</td>\n",
       "      <td>183.150</td>\n",
       "      <td>183.1600</td>\n",
       "      <td>7162</td>\n",
       "    </tr>\n",
       "    <tr>\n",
       "      <th>2</th>\n",
       "      <td>2023-06-13 19:15:00</td>\n",
       "      <td>183.2100</td>\n",
       "      <td>183.24</td>\n",
       "      <td>183.150</td>\n",
       "      <td>183.2400</td>\n",
       "      <td>18283</td>\n",
       "    </tr>\n",
       "    <tr>\n",
       "      <th>3</th>\n",
       "      <td>2023-06-13 19:00:00</td>\n",
       "      <td>183.2600</td>\n",
       "      <td>183.26</td>\n",
       "      <td>183.220</td>\n",
       "      <td>183.2200</td>\n",
       "      <td>1983</td>\n",
       "    </tr>\n",
       "    <tr>\n",
       "      <th>4</th>\n",
       "      <td>2023-06-13 18:45:00</td>\n",
       "      <td>183.2500</td>\n",
       "      <td>183.28</td>\n",
       "      <td>183.230</td>\n",
       "      <td>183.2600</td>\n",
       "      <td>4721</td>\n",
       "    </tr>\n",
       "    <tr>\n",
       "      <th>...</th>\n",
       "      <td>...</td>\n",
       "      <td>...</td>\n",
       "      <td>...</td>\n",
       "      <td>...</td>\n",
       "      <td>...</td>\n",
       "      <td>...</td>\n",
       "    </tr>\n",
       "    <tr>\n",
       "      <th>95</th>\n",
       "      <td>2023-06-12 12:00:00</td>\n",
       "      <td>182.3400</td>\n",
       "      <td>182.38</td>\n",
       "      <td>182.160</td>\n",
       "      <td>182.2850</td>\n",
       "      <td>929223</td>\n",
       "    </tr>\n",
       "    <tr>\n",
       "      <th>96</th>\n",
       "      <td>2023-06-12 11:45:00</td>\n",
       "      <td>182.4700</td>\n",
       "      <td>182.53</td>\n",
       "      <td>182.225</td>\n",
       "      <td>182.3266</td>\n",
       "      <td>1195820</td>\n",
       "    </tr>\n",
       "    <tr>\n",
       "      <th>97</th>\n",
       "      <td>2023-06-12 11:30:00</td>\n",
       "      <td>182.0200</td>\n",
       "      <td>182.49</td>\n",
       "      <td>182.020</td>\n",
       "      <td>182.4787</td>\n",
       "      <td>1647990</td>\n",
       "    </tr>\n",
       "    <tr>\n",
       "      <th>98</th>\n",
       "      <td>2023-06-12 11:15:00</td>\n",
       "      <td>181.9350</td>\n",
       "      <td>182.11</td>\n",
       "      <td>181.850</td>\n",
       "      <td>182.0150</td>\n",
       "      <td>1295263</td>\n",
       "    </tr>\n",
       "    <tr>\n",
       "      <th>99</th>\n",
       "      <td>2023-06-12 11:00:00</td>\n",
       "      <td>181.7601</td>\n",
       "      <td>182.00</td>\n",
       "      <td>181.720</td>\n",
       "      <td>181.9300</td>\n",
       "      <td>1257997</td>\n",
       "    </tr>\n",
       "  </tbody>\n",
       "</table>\n",
       "<p>100 rows × 6 columns</p>\n",
       "</div>"
      ],
      "text/plain": [
       "              timestamp      open    high      low     close   volume\n",
       "0   2023-06-13 19:45:00  183.1500  183.15  183.050  183.0799    14292\n",
       "1   2023-06-13 19:30:00  183.2100  183.22  183.150  183.1600     7162\n",
       "2   2023-06-13 19:15:00  183.2100  183.24  183.150  183.2400    18283\n",
       "3   2023-06-13 19:00:00  183.2600  183.26  183.220  183.2200     1983\n",
       "4   2023-06-13 18:45:00  183.2500  183.28  183.230  183.2600     4721\n",
       "..                  ...       ...     ...      ...       ...      ...\n",
       "95  2023-06-12 12:00:00  182.3400  182.38  182.160  182.2850   929223\n",
       "96  2023-06-12 11:45:00  182.4700  182.53  182.225  182.3266  1195820\n",
       "97  2023-06-12 11:30:00  182.0200  182.49  182.020  182.4787  1647990\n",
       "98  2023-06-12 11:15:00  181.9350  182.11  181.850  182.0150  1295263\n",
       "99  2023-06-12 11:00:00  181.7601  182.00  181.720  181.9300  1257997\n",
       "\n",
       "[100 rows x 6 columns]"
      ]
     },
     "execution_count": 10,
     "metadata": {},
     "output_type": "execute_result"
    }
   ],
   "source": [
    "script_data.fetch_intraday_data('AAPL')\n",
    "script_data.convert_intraday_data('AAPL')\n",
    "script_data['AAPL']"
   ]
  },
  {
   "cell_type": "code",
   "execution_count": 11,
   "id": "6d9c1152",
   "metadata": {},
   "outputs": [
    {
     "data": {
      "text/plain": [
       "True"
      ]
     },
     "execution_count": 11,
     "metadata": {},
     "output_type": "execute_result"
    }
   ],
   "source": [
    "'GOOGL' in script_data"
   ]
  },
  {
   "cell_type": "code",
   "execution_count": 12,
   "id": "b1c5b6ba",
   "metadata": {},
   "outputs": [
    {
     "data": {
      "text/plain": [
       "True"
      ]
     },
     "execution_count": 12,
     "metadata": {},
     "output_type": "execute_result"
    }
   ],
   "source": [
    "'AAPL' in script_data"
   ]
  },
  {
   "cell_type": "code",
   "execution_count": 13,
   "id": "cdec6a3e",
   "metadata": {},
   "outputs": [
    {
     "data": {
      "text/plain": [
       "False"
      ]
     },
     "execution_count": 13,
     "metadata": {},
     "output_type": "execute_result"
    }
   ],
   "source": [
    "'NVDA' in script_data"
   ]
  },
  {
   "cell_type": "markdown",
   "id": "525ab111",
   "metadata": {},
   "source": [
    "# 2. Define a function called indicator1"
   ]
  },
  {
   "cell_type": "code",
   "execution_count": 22,
   "id": "5c7cdbd8",
   "metadata": {},
   "outputs": [],
   "source": [
    "def indicator1(df,timeperiod):\n",
    "    df['indicator'] = df['close'].rolling(timeperiod).mean()\n",
    "    new_df = df[['timestamp','indicator']].copy()\n",
    "    return new_df"
   ]
  },
  {
   "cell_type": "code",
   "execution_count": 23,
   "id": "1b3bb25e",
   "metadata": {},
   "outputs": [
    {
     "data": {
      "text/html": [
       "<div>\n",
       "<style scoped>\n",
       "    .dataframe tbody tr th:only-of-type {\n",
       "        vertical-align: middle;\n",
       "    }\n",
       "\n",
       "    .dataframe tbody tr th {\n",
       "        vertical-align: top;\n",
       "    }\n",
       "\n",
       "    .dataframe thead th {\n",
       "        text-align: right;\n",
       "    }\n",
       "</style>\n",
       "<table border=\"1\" class=\"dataframe\">\n",
       "  <thead>\n",
       "    <tr style=\"text-align: right;\">\n",
       "      <th></th>\n",
       "      <th>timestamp</th>\n",
       "      <th>indicator</th>\n",
       "    </tr>\n",
       "  </thead>\n",
       "  <tbody>\n",
       "    <tr>\n",
       "      <th>0</th>\n",
       "      <td>2023-06-13 19:45:00</td>\n",
       "      <td>NaN</td>\n",
       "    </tr>\n",
       "    <tr>\n",
       "      <th>1</th>\n",
       "      <td>2023-06-13 19:30:00</td>\n",
       "      <td>NaN</td>\n",
       "    </tr>\n",
       "    <tr>\n",
       "      <th>2</th>\n",
       "      <td>2023-06-13 19:15:00</td>\n",
       "      <td>NaN</td>\n",
       "    </tr>\n",
       "    <tr>\n",
       "      <th>3</th>\n",
       "      <td>2023-06-13 19:00:00</td>\n",
       "      <td>NaN</td>\n",
       "    </tr>\n",
       "    <tr>\n",
       "      <th>4</th>\n",
       "      <td>2023-06-13 18:45:00</td>\n",
       "      <td>123.89064</td>\n",
       "    </tr>\n",
       "    <tr>\n",
       "      <th>...</th>\n",
       "      <td>...</td>\n",
       "      <td>...</td>\n",
       "    </tr>\n",
       "    <tr>\n",
       "      <th>95</th>\n",
       "      <td>2023-06-12 11:30:00</td>\n",
       "      <td>122.42534</td>\n",
       "    </tr>\n",
       "    <tr>\n",
       "      <th>96</th>\n",
       "      <td>2023-06-12 11:15:00</td>\n",
       "      <td>122.37834</td>\n",
       "    </tr>\n",
       "    <tr>\n",
       "      <th>97</th>\n",
       "      <td>2023-06-12 11:00:00</td>\n",
       "      <td>122.30100</td>\n",
       "    </tr>\n",
       "    <tr>\n",
       "      <th>98</th>\n",
       "      <td>2023-06-12 10:45:00</td>\n",
       "      <td>122.25100</td>\n",
       "    </tr>\n",
       "    <tr>\n",
       "      <th>99</th>\n",
       "      <td>2023-06-12 10:30:00</td>\n",
       "      <td>122.20300</td>\n",
       "    </tr>\n",
       "  </tbody>\n",
       "</table>\n",
       "<p>100 rows × 2 columns</p>\n",
       "</div>"
      ],
      "text/plain": [
       "              timestamp  indicator\n",
       "0   2023-06-13 19:45:00        NaN\n",
       "1   2023-06-13 19:30:00        NaN\n",
       "2   2023-06-13 19:15:00        NaN\n",
       "3   2023-06-13 19:00:00        NaN\n",
       "4   2023-06-13 18:45:00  123.89064\n",
       "..                  ...        ...\n",
       "95  2023-06-12 11:30:00  122.42534\n",
       "96  2023-06-12 11:15:00  122.37834\n",
       "97  2023-06-12 11:00:00  122.30100\n",
       "98  2023-06-12 10:45:00  122.25100\n",
       "99  2023-06-12 10:30:00  122.20300\n",
       "\n",
       "[100 rows x 2 columns]"
      ]
     },
     "execution_count": 23,
     "metadata": {},
     "output_type": "execute_result"
    }
   ],
   "source": [
    "indicator1(script_data['GOOGL'],timeperiod=5)"
   ]
  },
  {
   "cell_type": "markdown",
   "id": "bd1ddad1",
   "metadata": {},
   "source": [
    "# 3. Define a Class Strategy"
   ]
  },
  {
   "cell_type": "code",
   "execution_count": 24,
   "id": "9bf16a77",
   "metadata": {},
   "outputs": [],
   "source": [
    "class Strategy:\n",
    "    def __init__(self,script_name):\n",
    "        self.script = script_name\n",
    "        self.data = {}\n",
    "        self.indicator_data = None\n",
    "    \n",
    "    def get_script_data(self):\n",
    "        script_data = ScriptData()\n",
    "        script_data.fetch_intraday_data(self.script)\n",
    "        script_data.convert_intraday_data(self.script)\n",
    "        self.data = script_data[self.script]\n",
    "        self.compute_indicator_data()\n",
    "        \n",
    "    def compute_indicator_data(self):\n",
    "        self.indicator_data = indicator1(self.data,2)\n",
    "    \n",
    "    def get_signals(self):\n",
    "        signals = pd.DataFrame({'timestamp':self.data['timestamp']})\n",
    "        signals['signal'] = 'NO_SIGNAL'\n",
    "        self.data['close'] = self.data['close'].astype(float)\n",
    "        signals.loc[self.indicator_data['indicator'] > self.data['close'], 'signal'] = 'BUY'\n",
    "        signals.loc[self.indicator_data['indicator'] < self.data['close'], 'signal'] = 'SELL'\n",
    "        display(signals)\n",
    "        "
   ]
  },
  {
   "cell_type": "code",
   "execution_count": 17,
   "id": "2fc4ed3f",
   "metadata": {},
   "outputs": [],
   "source": [
    "strategy = Strategy('NVDA')"
   ]
  },
  {
   "cell_type": "code",
   "execution_count": 18,
   "id": "86ee6fdf",
   "metadata": {},
   "outputs": [],
   "source": [
    "strategy.get_script_data()"
   ]
  },
  {
   "cell_type": "code",
   "execution_count": 19,
   "id": "b616192a",
   "metadata": {},
   "outputs": [
    {
     "data": {
      "text/html": [
       "<div>\n",
       "<style scoped>\n",
       "    .dataframe tbody tr th:only-of-type {\n",
       "        vertical-align: middle;\n",
       "    }\n",
       "\n",
       "    .dataframe tbody tr th {\n",
       "        vertical-align: top;\n",
       "    }\n",
       "\n",
       "    .dataframe thead th {\n",
       "        text-align: right;\n",
       "    }\n",
       "</style>\n",
       "<table border=\"1\" class=\"dataframe\">\n",
       "  <thead>\n",
       "    <tr style=\"text-align: right;\">\n",
       "      <th></th>\n",
       "      <th>timestamp</th>\n",
       "      <th>signal</th>\n",
       "    </tr>\n",
       "  </thead>\n",
       "  <tbody>\n",
       "    <tr>\n",
       "      <th>0</th>\n",
       "      <td>2023-06-13 19:45:00</td>\n",
       "      <td>NO_SIGNAL</td>\n",
       "    </tr>\n",
       "    <tr>\n",
       "      <th>1</th>\n",
       "      <td>2023-06-13 19:30:00</td>\n",
       "      <td>BUY</td>\n",
       "    </tr>\n",
       "    <tr>\n",
       "      <th>2</th>\n",
       "      <td>2023-06-13 19:15:00</td>\n",
       "      <td>BUY</td>\n",
       "    </tr>\n",
       "    <tr>\n",
       "      <th>3</th>\n",
       "      <td>2023-06-13 19:00:00</td>\n",
       "      <td>SELL</td>\n",
       "    </tr>\n",
       "    <tr>\n",
       "      <th>4</th>\n",
       "      <td>2023-06-13 18:45:00</td>\n",
       "      <td>BUY</td>\n",
       "    </tr>\n",
       "    <tr>\n",
       "      <th>...</th>\n",
       "      <td>...</td>\n",
       "      <td>...</td>\n",
       "    </tr>\n",
       "    <tr>\n",
       "      <th>95</th>\n",
       "      <td>2023-06-12 12:00:00</td>\n",
       "      <td>BUY</td>\n",
       "    </tr>\n",
       "    <tr>\n",
       "      <th>96</th>\n",
       "      <td>2023-06-12 11:45:00</td>\n",
       "      <td>SELL</td>\n",
       "    </tr>\n",
       "    <tr>\n",
       "      <th>97</th>\n",
       "      <td>2023-06-12 11:30:00</td>\n",
       "      <td>SELL</td>\n",
       "    </tr>\n",
       "    <tr>\n",
       "      <th>98</th>\n",
       "      <td>2023-06-12 11:15:00</td>\n",
       "      <td>BUY</td>\n",
       "    </tr>\n",
       "    <tr>\n",
       "      <th>99</th>\n",
       "      <td>2023-06-12 11:00:00</td>\n",
       "      <td>BUY</td>\n",
       "    </tr>\n",
       "  </tbody>\n",
       "</table>\n",
       "<p>100 rows × 2 columns</p>\n",
       "</div>"
      ],
      "text/plain": [
       "              timestamp     signal\n",
       "0   2023-06-13 19:45:00  NO_SIGNAL\n",
       "1   2023-06-13 19:30:00        BUY\n",
       "2   2023-06-13 19:15:00        BUY\n",
       "3   2023-06-13 19:00:00       SELL\n",
       "4   2023-06-13 18:45:00        BUY\n",
       "..                  ...        ...\n",
       "95  2023-06-12 12:00:00        BUY\n",
       "96  2023-06-12 11:45:00       SELL\n",
       "97  2023-06-12 11:30:00       SELL\n",
       "98  2023-06-12 11:15:00        BUY\n",
       "99  2023-06-12 11:00:00        BUY\n",
       "\n",
       "[100 rows x 2 columns]"
      ]
     },
     "metadata": {},
     "output_type": "display_data"
    }
   ],
   "source": [
    "strategy.get_signals()"
   ]
  }
 ],
 "metadata": {
  "kernelspec": {
   "display_name": "Python 3 (ipykernel)",
   "language": "python",
   "name": "python3"
  },
  "language_info": {
   "codemirror_mode": {
    "name": "ipython",
    "version": 3
   },
   "file_extension": ".py",
   "mimetype": "text/x-python",
   "name": "python",
   "nbconvert_exporter": "python",
   "pygments_lexer": "ipython3",
   "version": "3.10.9"
  }
 },
 "nbformat": 4,
 "nbformat_minor": 5
}
